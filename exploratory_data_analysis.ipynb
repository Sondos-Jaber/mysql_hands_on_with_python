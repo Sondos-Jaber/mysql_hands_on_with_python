{
 "cells": [
  {
   "cell_type": "code",
   "execution_count": 1,
   "metadata": {},
   "outputs": [],
   "source": [
    "import pandas as pd\n",
    "import matplotlib.pyplot as plt\n",
    "import seaborn as sns\n",
    "import numpy as np\n",
    "from scipy.stats import chi2_contingency"
   ]
  },
  {
   "cell_type": "code",
   "execution_count": 2,
   "metadata": {},
   "outputs": [],
   "source": [
    "# Load the DataFrame from the CSV file\n",
    "\n",
    "df_mysql = pd.read_csv('df_mysql.csv')\n"
   ]
  },
  {
   "cell_type": "code",
   "execution_count": 3,
   "metadata": {},
   "outputs": [
    {
     "data": {
      "text/plain": [
       "(103594, 25)"
      ]
     },
     "execution_count": 3,
     "metadata": {},
     "output_type": "execute_result"
    }
   ],
   "source": [
    "#exploring the shape of the dataframe\n",
    "df_mysql.shape"
   ]
  },
  {
   "cell_type": "code",
   "execution_count": 4,
   "metadata": {},
   "outputs": [
    {
     "name": "stdout",
     "output_type": "stream",
     "text": [
      "   MyUnknownColumn      id  Gender      Customer Type  Age   Type of Travel  \\\n",
      "0                0   70172    Male     Loyal Customer   13  Personal Travel   \n",
      "1                1    5047    Male  disloyal Customer   25  Business travel   \n",
      "2                2  110028  Female     Loyal Customer   26  Business travel   \n",
      "3                3   24026  Female     Loyal Customer   25  Business travel   \n",
      "4                4  119299    Male     Loyal Customer   61  Business travel   \n",
      "5                5  111157  Female     Loyal Customer   26  Personal Travel   \n",
      "\n",
      "      Class  Flight Distance  Inflight wifi service  \\\n",
      "0  Eco Plus              460                      3   \n",
      "1  Business              235                      3   \n",
      "2  Business             1142                      2   \n",
      "3  Business              562                      2   \n",
      "4  Business              214                      3   \n",
      "5       Eco             1180                      3   \n",
      "\n",
      "   Departure/Arrival time convenient  ...  Inflight entertainment  \\\n",
      "0                                  4  ...                       5   \n",
      "1                                  2  ...                       1   \n",
      "2                                  2  ...                       5   \n",
      "3                                  5  ...                       2   \n",
      "4                                  3  ...                       3   \n",
      "5                                  4  ...                       1   \n",
      "\n",
      "   On-board service  Leg room service  Baggage handling  Checkin service  \\\n",
      "0                 4                 3                 4                4   \n",
      "1                 1                 5                 3                1   \n",
      "2                 4                 3                 4                4   \n",
      "3                 2                 5                 3                1   \n",
      "4                 3                 4                 4                3   \n",
      "5                 3                 4                 4                4   \n",
      "\n",
      "   Inflight service  Cleanliness  Departure Delay in Minutes  \\\n",
      "0                 5            5                          25   \n",
      "1                 4            1                           1   \n",
      "2                 4            5                           0   \n",
      "3                 4            2                          11   \n",
      "4                 3            3                           0   \n",
      "5                 4            1                           0   \n",
      "\n",
      "   Arrival Delay in Minutes             satisfaction  \n",
      "0                      18.0  neutral or dissatisfied  \n",
      "1                       6.0  neutral or dissatisfied  \n",
      "2                       0.0                satisfied  \n",
      "3                       9.0  neutral or dissatisfied  \n",
      "4                       0.0                satisfied  \n",
      "5                       0.0  neutral or dissatisfied  \n",
      "\n",
      "[6 rows x 25 columns]\n"
     ]
    }
   ],
   "source": [
    "print(df_mysql.head(6))"
   ]
  },
  {
   "cell_type": "markdown",
   "metadata": {},
   "source": [
    "# Exploring the missing values and unimportant columns"
   ]
  },
  {
   "cell_type": "code",
   "execution_count": 5,
   "metadata": {},
   "outputs": [
    {
     "data": {
      "text/plain": [
       "Index(['MyUnknownColumn', 'id', 'Gender', 'Customer Type', 'Age',\n",
       "       'Type of Travel', 'Class', 'Flight Distance', 'Inflight wifi service',\n",
       "       'Departure/Arrival time convenient', 'Ease of Online booking',\n",
       "       'Gate location', 'Food and drink', 'Online boarding', 'Seat comfort',\n",
       "       'Inflight entertainment', 'On-board service', 'Leg room service',\n",
       "       'Baggage handling', 'Checkin service', 'Inflight service',\n",
       "       'Cleanliness', 'Departure Delay in Minutes', 'Arrival Delay in Minutes',\n",
       "       'satisfaction'],\n",
       "      dtype='object')"
      ]
     },
     "execution_count": 5,
     "metadata": {},
     "output_type": "execute_result"
    }
   ],
   "source": [
    "#Exploring the dataset attributes\n",
    "df_mysql.columns"
   ]
  },
  {
   "cell_type": "code",
   "execution_count": 6,
   "metadata": {},
   "outputs": [
    {
     "data": {
      "text/plain": [
       "0          70172\n",
       "1           5047\n",
       "2         110028\n",
       "3          24026\n",
       "4         119299\n",
       "           ...  \n",
       "103589     94171\n",
       "103590     73097\n",
       "103591     68825\n",
       "103592     54173\n",
       "103593     62567\n",
       "Name: id, Length: 103594, dtype: int64"
      ]
     },
     "execution_count": 6,
     "metadata": {},
     "output_type": "execute_result"
    }
   ],
   "source": [
    "#Exploring the data in a certain column\n",
    "df_mysql['id']"
   ]
  },
  {
   "cell_type": "code",
   "execution_count": 7,
   "metadata": {},
   "outputs": [
    {
     "name": "stdout",
     "output_type": "stream",
     "text": [
      "Empty DataFrame\n",
      "Columns: [MyUnknownColumn, id, Gender, Customer Type, Age, Type of Travel, Class, Flight Distance, Inflight wifi service, Departure/Arrival time convenient, Ease of Online booking, Gate location, Food and drink, Online boarding, Seat comfort, Inflight entertainment, On-board service, Leg room service, Baggage handling, Checkin service, Inflight service, Cleanliness, Departure Delay in Minutes, Arrival Delay in Minutes, satisfaction]\n",
      "Index: []\n",
      "\n",
      "[0 rows x 25 columns]\n"
     ]
    }
   ],
   "source": [
    "#check the duplication in the records based on id_column\n",
    "duplicates = df_mysql.duplicated(subset='id', keep=False)\n",
    " #Print the rows with duplicate values in the specified column\n",
    "print(df_mysql[duplicates])\n"
   ]
  },
  {
   "cell_type": "code",
   "execution_count": 8,
   "metadata": {},
   "outputs": [
    {
     "name": "stdout",
     "output_type": "stream",
     "text": [
      "<class 'pandas.core.frame.DataFrame'>\n",
      "RangeIndex: 103594 entries, 0 to 103593\n",
      "Data columns (total 25 columns):\n",
      " #   Column                             Non-Null Count   Dtype  \n",
      "---  ------                             --------------   -----  \n",
      " 0   MyUnknownColumn                    103594 non-null  int64  \n",
      " 1   id                                 103594 non-null  int64  \n",
      " 2   Gender                             103594 non-null  object \n",
      " 3   Customer Type                      103594 non-null  object \n",
      " 4   Age                                103594 non-null  int64  \n",
      " 5   Type of Travel                     103594 non-null  object \n",
      " 6   Class                              103594 non-null  object \n",
      " 7   Flight Distance                    103594 non-null  int64  \n",
      " 8   Inflight wifi service              103594 non-null  int64  \n",
      " 9   Departure/Arrival time convenient  103594 non-null  int64  \n",
      " 10  Ease of Online booking             103594 non-null  int64  \n",
      " 11  Gate location                      103594 non-null  int64  \n",
      " 12  Food and drink                     103594 non-null  int64  \n",
      " 13  Online boarding                    103594 non-null  int64  \n",
      " 14  Seat comfort                       103594 non-null  int64  \n",
      " 15  Inflight entertainment             103594 non-null  int64  \n",
      " 16  On-board service                   103594 non-null  int64  \n",
      " 17  Leg room service                   103594 non-null  int64  \n",
      " 18  Baggage handling                   103594 non-null  int64  \n",
      " 19  Checkin service                    103594 non-null  int64  \n",
      " 20  Inflight service                   103594 non-null  int64  \n",
      " 21  Cleanliness                        103594 non-null  int64  \n",
      " 22  Departure Delay in Minutes         103594 non-null  int64  \n",
      " 23  Arrival Delay in Minutes           103594 non-null  float64\n",
      " 24  satisfaction                       103594 non-null  object \n",
      "dtypes: float64(1), int64(19), object(5)\n",
      "memory usage: 19.8+ MB\n"
     ]
    }
   ],
   "source": [
    "# Detecting missing values in coloumns\n",
    "df_mysql.info()"
   ]
  },
  {
   "cell_type": "code",
   "execution_count": 9,
   "metadata": {},
   "outputs": [
    {
     "name": "stdout",
     "output_type": "stream",
     "text": [
      "MyUnknownColumn                      0\n",
      "Online boarding                      0\n",
      "Arrival Delay in Minutes             0\n",
      "Departure Delay in Minutes           0\n",
      "Cleanliness                          0\n",
      "Inflight service                     0\n",
      "Checkin service                      0\n",
      "Baggage handling                     0\n",
      "Leg room service                     0\n",
      "On-board service                     0\n",
      "Inflight entertainment               0\n",
      "Seat comfort                         0\n",
      "Food and drink                       0\n",
      "id                                   0\n",
      "Gate location                        0\n",
      "Ease of Online booking               0\n",
      "Departure/Arrival time convenient    0\n",
      "Inflight wifi service                0\n",
      "Flight Distance                      0\n",
      "Class                                0\n",
      "Type of Travel                       0\n",
      "Age                                  0\n",
      "Customer Type                        0\n",
      "Gender                               0\n",
      "satisfaction                         0\n",
      "dtype: int64\n"
     ]
    }
   ],
   "source": [
    "missing_data=df_mysql.isnull().sum().sort_values(ascending=False)\n",
    "print(missing_data)"
   ]
  },
  {
   "cell_type": "code",
   "execution_count": 10,
   "metadata": {},
   "outputs": [
    {
     "data": {
      "text/plain": [
       "(103594, 23)"
      ]
     },
     "execution_count": 10,
     "metadata": {},
     "output_type": "execute_result"
    }
   ],
   "source": [
    "# Removing unimportant coloumns from the mysql dataset\n",
    "df_mysql_new=df_mysql.drop(['MyUnknownColumn','id'], axis=1)\n",
    "df_mysql_new.shape"
   ]
  },
  {
   "cell_type": "markdown",
   "metadata": {},
   "source": [
    "#  Understanding the distribution and characteristics of the data. "
   ]
  },
  {
   "cell_type": "code",
   "execution_count": 11,
   "metadata": {},
   "outputs": [
    {
     "data": {
      "text/html": [
       "<div>\n",
       "<style scoped>\n",
       "    .dataframe tbody tr th:only-of-type {\n",
       "        vertical-align: middle;\n",
       "    }\n",
       "\n",
       "    .dataframe tbody tr th {\n",
       "        vertical-align: top;\n",
       "    }\n",
       "\n",
       "    .dataframe thead th {\n",
       "        text-align: right;\n",
       "    }\n",
       "</style>\n",
       "<table border=\"1\" class=\"dataframe\">\n",
       "  <thead>\n",
       "    <tr style=\"text-align: right;\">\n",
       "      <th></th>\n",
       "      <th>Age</th>\n",
       "      <th>Flight Distance</th>\n",
       "      <th>Inflight wifi service</th>\n",
       "      <th>Departure/Arrival time convenient</th>\n",
       "      <th>Ease of Online booking</th>\n",
       "      <th>Gate location</th>\n",
       "      <th>Food and drink</th>\n",
       "      <th>Online boarding</th>\n",
       "      <th>Seat comfort</th>\n",
       "      <th>Inflight entertainment</th>\n",
       "      <th>On-board service</th>\n",
       "      <th>Leg room service</th>\n",
       "      <th>Baggage handling</th>\n",
       "      <th>Checkin service</th>\n",
       "      <th>Inflight service</th>\n",
       "      <th>Cleanliness</th>\n",
       "      <th>Departure Delay in Minutes</th>\n",
       "      <th>Arrival Delay in Minutes</th>\n",
       "    </tr>\n",
       "  </thead>\n",
       "  <tbody>\n",
       "    <tr>\n",
       "      <th>count</th>\n",
       "      <td>103594.000000</td>\n",
       "      <td>103594.000000</td>\n",
       "      <td>103594.000000</td>\n",
       "      <td>103594.000000</td>\n",
       "      <td>103594.000000</td>\n",
       "      <td>103594.000000</td>\n",
       "      <td>103594.000000</td>\n",
       "      <td>103594.000000</td>\n",
       "      <td>103594.000000</td>\n",
       "      <td>103594.000000</td>\n",
       "      <td>103594.000000</td>\n",
       "      <td>103594.000000</td>\n",
       "      <td>103594.000000</td>\n",
       "      <td>103594.000000</td>\n",
       "      <td>103594.000000</td>\n",
       "      <td>103594.000000</td>\n",
       "      <td>103594.000000</td>\n",
       "      <td>103594.000000</td>\n",
       "    </tr>\n",
       "    <tr>\n",
       "      <th>mean</th>\n",
       "      <td>39.380466</td>\n",
       "      <td>1189.325202</td>\n",
       "      <td>2.729753</td>\n",
       "      <td>3.060081</td>\n",
       "      <td>2.756984</td>\n",
       "      <td>2.977026</td>\n",
       "      <td>3.202126</td>\n",
       "      <td>3.250497</td>\n",
       "      <td>3.439765</td>\n",
       "      <td>3.358341</td>\n",
       "      <td>3.382609</td>\n",
       "      <td>3.351401</td>\n",
       "      <td>3.631687</td>\n",
       "      <td>3.304323</td>\n",
       "      <td>3.640761</td>\n",
       "      <td>3.286397</td>\n",
       "      <td>14.747939</td>\n",
       "      <td>15.178678</td>\n",
       "    </tr>\n",
       "    <tr>\n",
       "      <th>std</th>\n",
       "      <td>15.113125</td>\n",
       "      <td>997.297235</td>\n",
       "      <td>1.327866</td>\n",
       "      <td>1.525233</td>\n",
       "      <td>1.398934</td>\n",
       "      <td>1.277723</td>\n",
       "      <td>1.329401</td>\n",
       "      <td>1.349433</td>\n",
       "      <td>1.318896</td>\n",
       "      <td>1.333030</td>\n",
       "      <td>1.288284</td>\n",
       "      <td>1.315409</td>\n",
       "      <td>1.181051</td>\n",
       "      <td>1.265396</td>\n",
       "      <td>1.175603</td>\n",
       "      <td>1.312194</td>\n",
       "      <td>38.116737</td>\n",
       "      <td>38.698682</td>\n",
       "    </tr>\n",
       "    <tr>\n",
       "      <th>min</th>\n",
       "      <td>7.000000</td>\n",
       "      <td>31.000000</td>\n",
       "      <td>0.000000</td>\n",
       "      <td>0.000000</td>\n",
       "      <td>0.000000</td>\n",
       "      <td>0.000000</td>\n",
       "      <td>0.000000</td>\n",
       "      <td>0.000000</td>\n",
       "      <td>0.000000</td>\n",
       "      <td>0.000000</td>\n",
       "      <td>0.000000</td>\n",
       "      <td>0.000000</td>\n",
       "      <td>1.000000</td>\n",
       "      <td>0.000000</td>\n",
       "      <td>0.000000</td>\n",
       "      <td>0.000000</td>\n",
       "      <td>0.000000</td>\n",
       "      <td>0.000000</td>\n",
       "    </tr>\n",
       "    <tr>\n",
       "      <th>25%</th>\n",
       "      <td>27.000000</td>\n",
       "      <td>414.000000</td>\n",
       "      <td>2.000000</td>\n",
       "      <td>2.000000</td>\n",
       "      <td>2.000000</td>\n",
       "      <td>2.000000</td>\n",
       "      <td>2.000000</td>\n",
       "      <td>2.000000</td>\n",
       "      <td>2.000000</td>\n",
       "      <td>2.000000</td>\n",
       "      <td>2.000000</td>\n",
       "      <td>2.000000</td>\n",
       "      <td>3.000000</td>\n",
       "      <td>3.000000</td>\n",
       "      <td>3.000000</td>\n",
       "      <td>2.000000</td>\n",
       "      <td>0.000000</td>\n",
       "      <td>0.000000</td>\n",
       "    </tr>\n",
       "    <tr>\n",
       "      <th>50%</th>\n",
       "      <td>40.000000</td>\n",
       "      <td>842.000000</td>\n",
       "      <td>3.000000</td>\n",
       "      <td>3.000000</td>\n",
       "      <td>3.000000</td>\n",
       "      <td>3.000000</td>\n",
       "      <td>3.000000</td>\n",
       "      <td>3.000000</td>\n",
       "      <td>4.000000</td>\n",
       "      <td>4.000000</td>\n",
       "      <td>4.000000</td>\n",
       "      <td>4.000000</td>\n",
       "      <td>4.000000</td>\n",
       "      <td>3.000000</td>\n",
       "      <td>4.000000</td>\n",
       "      <td>3.000000</td>\n",
       "      <td>0.000000</td>\n",
       "      <td>0.000000</td>\n",
       "    </tr>\n",
       "    <tr>\n",
       "      <th>75%</th>\n",
       "      <td>51.000000</td>\n",
       "      <td>1743.000000</td>\n",
       "      <td>4.000000</td>\n",
       "      <td>4.000000</td>\n",
       "      <td>4.000000</td>\n",
       "      <td>4.000000</td>\n",
       "      <td>4.000000</td>\n",
       "      <td>4.000000</td>\n",
       "      <td>5.000000</td>\n",
       "      <td>4.000000</td>\n",
       "      <td>4.000000</td>\n",
       "      <td>4.000000</td>\n",
       "      <td>5.000000</td>\n",
       "      <td>4.000000</td>\n",
       "      <td>5.000000</td>\n",
       "      <td>4.000000</td>\n",
       "      <td>12.000000</td>\n",
       "      <td>13.000000</td>\n",
       "    </tr>\n",
       "    <tr>\n",
       "      <th>max</th>\n",
       "      <td>85.000000</td>\n",
       "      <td>4983.000000</td>\n",
       "      <td>5.000000</td>\n",
       "      <td>5.000000</td>\n",
       "      <td>5.000000</td>\n",
       "      <td>5.000000</td>\n",
       "      <td>5.000000</td>\n",
       "      <td>5.000000</td>\n",
       "      <td>5.000000</td>\n",
       "      <td>5.000000</td>\n",
       "      <td>5.000000</td>\n",
       "      <td>5.000000</td>\n",
       "      <td>5.000000</td>\n",
       "      <td>5.000000</td>\n",
       "      <td>5.000000</td>\n",
       "      <td>5.000000</td>\n",
       "      <td>1592.000000</td>\n",
       "      <td>1584.000000</td>\n",
       "    </tr>\n",
       "  </tbody>\n",
       "</table>\n",
       "</div>"
      ],
      "text/plain": [
       "                 Age  Flight Distance  Inflight wifi service  \\\n",
       "count  103594.000000    103594.000000          103594.000000   \n",
       "mean       39.380466      1189.325202               2.729753   \n",
       "std        15.113125       997.297235               1.327866   \n",
       "min         7.000000        31.000000               0.000000   \n",
       "25%        27.000000       414.000000               2.000000   \n",
       "50%        40.000000       842.000000               3.000000   \n",
       "75%        51.000000      1743.000000               4.000000   \n",
       "max        85.000000      4983.000000               5.000000   \n",
       "\n",
       "       Departure/Arrival time convenient  Ease of Online booking  \\\n",
       "count                      103594.000000           103594.000000   \n",
       "mean                            3.060081                2.756984   \n",
       "std                             1.525233                1.398934   \n",
       "min                             0.000000                0.000000   \n",
       "25%                             2.000000                2.000000   \n",
       "50%                             3.000000                3.000000   \n",
       "75%                             4.000000                4.000000   \n",
       "max                             5.000000                5.000000   \n",
       "\n",
       "       Gate location  Food and drink  Online boarding   Seat comfort  \\\n",
       "count  103594.000000   103594.000000    103594.000000  103594.000000   \n",
       "mean        2.977026        3.202126         3.250497       3.439765   \n",
       "std         1.277723        1.329401         1.349433       1.318896   \n",
       "min         0.000000        0.000000         0.000000       0.000000   \n",
       "25%         2.000000        2.000000         2.000000       2.000000   \n",
       "50%         3.000000        3.000000         3.000000       4.000000   \n",
       "75%         4.000000        4.000000         4.000000       5.000000   \n",
       "max         5.000000        5.000000         5.000000       5.000000   \n",
       "\n",
       "       Inflight entertainment  On-board service  Leg room service  \\\n",
       "count           103594.000000     103594.000000     103594.000000   \n",
       "mean                 3.358341          3.382609          3.351401   \n",
       "std                  1.333030          1.288284          1.315409   \n",
       "min                  0.000000          0.000000          0.000000   \n",
       "25%                  2.000000          2.000000          2.000000   \n",
       "50%                  4.000000          4.000000          4.000000   \n",
       "75%                  4.000000          4.000000          4.000000   \n",
       "max                  5.000000          5.000000          5.000000   \n",
       "\n",
       "       Baggage handling  Checkin service  Inflight service    Cleanliness  \\\n",
       "count     103594.000000    103594.000000     103594.000000  103594.000000   \n",
       "mean           3.631687         3.304323          3.640761       3.286397   \n",
       "std            1.181051         1.265396          1.175603       1.312194   \n",
       "min            1.000000         0.000000          0.000000       0.000000   \n",
       "25%            3.000000         3.000000          3.000000       2.000000   \n",
       "50%            4.000000         3.000000          4.000000       3.000000   \n",
       "75%            5.000000         4.000000          5.000000       4.000000   \n",
       "max            5.000000         5.000000          5.000000       5.000000   \n",
       "\n",
       "       Departure Delay in Minutes  Arrival Delay in Minutes  \n",
       "count               103594.000000             103594.000000  \n",
       "mean                    14.747939                 15.178678  \n",
       "std                     38.116737                 38.698682  \n",
       "min                      0.000000                  0.000000  \n",
       "25%                      0.000000                  0.000000  \n",
       "50%                      0.000000                  0.000000  \n",
       "75%                     12.000000                 13.000000  \n",
       "max                   1592.000000               1584.000000  "
      ]
     },
     "execution_count": 11,
     "metadata": {},
     "output_type": "execute_result"
    }
   ],
   "source": [
    "# Summary statistics of numeric features\n",
    "stat_desc=df_mysql_new.describe()\n",
    "stat_desc\n",
    "# indicates no ouliers in the categorical features"
   ]
  },
  {
   "cell_type": "code",
   "execution_count": 12,
   "metadata": {},
   "outputs": [
    {
     "data": {
      "text/html": [
       "<div>\n",
       "<style scoped>\n",
       "    .dataframe tbody tr th:only-of-type {\n",
       "        vertical-align: middle;\n",
       "    }\n",
       "\n",
       "    .dataframe tbody tr th {\n",
       "        vertical-align: top;\n",
       "    }\n",
       "\n",
       "    .dataframe thead th {\n",
       "        text-align: right;\n",
       "    }\n",
       "</style>\n",
       "<table border=\"1\" class=\"dataframe\">\n",
       "  <thead>\n",
       "    <tr style=\"text-align: right;\">\n",
       "      <th></th>\n",
       "      <th>Gender</th>\n",
       "      <th>Customer Type</th>\n",
       "      <th>Type of Travel</th>\n",
       "      <th>Class</th>\n",
       "      <th>satisfaction</th>\n",
       "    </tr>\n",
       "  </thead>\n",
       "  <tbody>\n",
       "    <tr>\n",
       "      <th>count</th>\n",
       "      <td>103594</td>\n",
       "      <td>103594</td>\n",
       "      <td>103594</td>\n",
       "      <td>103594</td>\n",
       "      <td>103594</td>\n",
       "    </tr>\n",
       "    <tr>\n",
       "      <th>unique</th>\n",
       "      <td>2</td>\n",
       "      <td>2</td>\n",
       "      <td>2</td>\n",
       "      <td>3</td>\n",
       "      <td>2</td>\n",
       "    </tr>\n",
       "    <tr>\n",
       "      <th>top</th>\n",
       "      <td>Female</td>\n",
       "      <td>Loyal Customer</td>\n",
       "      <td>Business travel</td>\n",
       "      <td>Business</td>\n",
       "      <td>neutral or dissatisfied</td>\n",
       "    </tr>\n",
       "    <tr>\n",
       "      <th>freq</th>\n",
       "      <td>52576</td>\n",
       "      <td>84662</td>\n",
       "      <td>71465</td>\n",
       "      <td>49533</td>\n",
       "      <td>58697</td>\n",
       "    </tr>\n",
       "  </tbody>\n",
       "</table>\n",
       "</div>"
      ],
      "text/plain": [
       "        Gender   Customer Type   Type of Travel     Class  \\\n",
       "count   103594          103594           103594    103594   \n",
       "unique       2               2                2         3   \n",
       "top     Female  Loyal Customer  Business travel  Business   \n",
       "freq     52576           84662            71465     49533   \n",
       "\n",
       "                   satisfaction  \n",
       "count                    103594  \n",
       "unique                        2  \n",
       "top     neutral or dissatisfied  \n",
       "freq                      58697  "
      ]
     },
     "execution_count": 12,
     "metadata": {},
     "output_type": "execute_result"
    }
   ],
   "source": [
    "\n",
    "# Summary statistics of string features\n",
    "df_mysql_new.describe(include=object)"
   ]
  },
  {
   "cell_type": "code",
   "execution_count": 13,
   "metadata": {},
   "outputs": [
    {
     "data": {
      "text/plain": [
       "array(['Eco Plus', 'Business', 'Eco'], dtype=object)"
      ]
     },
     "execution_count": 13,
     "metadata": {},
     "output_type": "execute_result"
    }
   ],
   "source": [
    "df_mysql_new['Class'].unique()"
   ]
  },
  {
   "cell_type": "markdown",
   "metadata": {},
   "source": [
    "# Finding the outliers in the dataset\n",
    "1) check the distribution of numerical features by histograms\n",
    "2) Boxplot to find outliers based on 1.5 IQR"
   ]
  },
  {
   "cell_type": "code",
   "execution_count": 14,
   "metadata": {},
   "outputs": [
    {
     "data": {
      "text/plain": [
       "Gender                                object\n",
       "Customer Type                         object\n",
       "Age                                    int64\n",
       "Type of Travel                        object\n",
       "Class                                 object\n",
       "Flight Distance                        int64\n",
       "Inflight wifi service                  int64\n",
       "Departure/Arrival time convenient      int64\n",
       "Ease of Online booking                 int64\n",
       "Gate location                          int64\n",
       "Food and drink                         int64\n",
       "Online boarding                        int64\n",
       "Seat comfort                           int64\n",
       "Inflight entertainment                 int64\n",
       "On-board service                       int64\n",
       "Leg room service                       int64\n",
       "Baggage handling                       int64\n",
       "Checkin service                        int64\n",
       "Inflight service                       int64\n",
       "Cleanliness                            int64\n",
       "Departure Delay in Minutes             int64\n",
       "Arrival Delay in Minutes             float64\n",
       "satisfaction                          object\n",
       "dtype: object"
      ]
     },
     "execution_count": 14,
     "metadata": {},
     "output_type": "execute_result"
    }
   ],
   "source": [
    "# Data types of columns\n",
    "df_mysql_new.dtypes"
   ]
  },
  {
   "cell_type": "code",
   "execution_count": 15,
   "metadata": {},
   "outputs": [
    {
     "data": {
      "text/plain": [
       "(array([ 7002., 17228., 15353., 10366.,  9942.,  7113.,  3126.,  4679.,\n",
       "         4251.,  3176.,  2727.,  2806.,  3747.,  2126.,  1696.,  1590.,\n",
       "         1624.,  1623.,  1675.,  1686.]),\n",
       " array([   0.,  200.,  400.,  600.,  800., 1000., 1200., 1400., 1600.,\n",
       "        1800., 2000., 2200., 2400., 2600., 2800., 3000., 3200., 3400.,\n",
       "        3600., 3800., 4000.]),\n",
       " <BarContainer object of 20 artists>)"
      ]
     },
     "execution_count": 15,
     "metadata": {},
     "output_type": "execute_result"
    },
    {
     "data": {
      "image/png": "[encoded data removed]",
      "text/plain": [
       "<Figure size 640x480 with 1 Axes>"
      ]
     },
     "metadata": {},
     "output_type": "display_data"
    }
   ],
   "source": [
    "## Exploring the distribution of the numerical columns using HISTOGRAMS\n",
    "# Exploring the distribution of flight distance using Histogram \n",
    "\n",
    "plt.hist(df_mysql_new[\"Flight Distance\"],20, range=[0, 4000], facecolor='green', align='mid')"
   ]
  },
  {
   "cell_type": "code",
   "execution_count": 16,
   "metadata": {},
   "outputs": [
    {
     "data": {
      "text/plain": [
       "(array([3188., 1923., 1444., 1049.,  834.,  614.,  518.,  410.,  313.,\n",
       "         291.,  224.,  199.,  180.,  138.,   93.,   76.,   70.,   57.,\n",
       "          50.,   43.,   32.,   36.,   32.,   27.,   27.,   20.,   17.,\n",
       "          12.,    9.,   16.]),\n",
       " array([ 38.        ,  50.06666667,  62.13333333,  74.2       ,\n",
       "         86.26666667,  98.33333333, 110.4       , 122.46666667,\n",
       "        134.53333333, 146.6       , 158.66666667, 170.73333333,\n",
       "        182.8       , 194.86666667, 206.93333333, 219.        ,\n",
       "        231.06666667, 243.13333333, 255.2       , 267.26666667,\n",
       "        279.33333333, 291.4       , 303.46666667, 315.53333333,\n",
       "        327.6       , 339.66666667, 351.73333333, 363.8       ,\n",
       "        375.86666667, 387.93333333, 400.        ]),\n",
       " <BarContainer object of 30 artists>)"
      ]
     },
     "execution_count": 16,
     "metadata": {},
     "output_type": "execute_result"
    },
    {
     "data": {
      "image/png": "[encoded data removed]",
      "text/plain": [
       "<Figure size 640x480 with 1 Axes>"
      ]
     },
     "metadata": {},
     "output_type": "display_data"
    }
   ],
   "source": [
    "# Histogram of departure delay column \n",
    "plt.hist(df_mysql_new[\"Departure Delay in Minutes\"],30, range=[38, 400], facecolor='gray', align='mid')"
   ]
  },
  {
   "cell_type": "code",
   "execution_count": 17,
   "metadata": {},
   "outputs": [
    {
     "data": {
      "text/plain": [
       "(array([69567.,  8577.,  4923.,  4057.,  2882.,  1964.,  1788.,  1388.,\n",
       "          960.,   986.,   797.,   563.,   582.,   524.,   368.,   394.,\n",
       "          338.,   270.,   271.,   227.,   203.,   171.,   168.,   137.,\n",
       "          156.,   119.,   115.,   125.,    88.,    79.]),\n",
       " array([  0.        ,   6.66666667,  13.33333333,  20.        ,\n",
       "         26.66666667,  33.33333333,  40.        ,  46.66666667,\n",
       "         53.33333333,  60.        ,  66.66666667,  73.33333333,\n",
       "         80.        ,  86.66666667,  93.33333333, 100.        ,\n",
       "        106.66666667, 113.33333333, 120.        , 126.66666667,\n",
       "        133.33333333, 140.        , 146.66666667, 153.33333333,\n",
       "        160.        , 166.66666667, 173.33333333, 180.        ,\n",
       "        186.66666667, 193.33333333, 200.        ]),\n",
       " <BarContainer object of 30 artists>)"
      ]
     },
     "execution_count": 17,
     "metadata": {},
     "output_type": "execute_result"
    },
    {
     "data": {
      "image/png": "[encoded data removed]",
      "text/plain": [
       "<Figure size 640x480 with 1 Axes>"
      ]
     },
     "metadata": {},
     "output_type": "display_data"
    }
   ],
   "source": [
    "# Histogram of arrival delay column \n",
    "plt.hist(df_mysql_new[\"Arrival Delay in Minutes\"],30, range=[0, 200], facecolor='gray', align='mid')"
   ]
  },
  {
   "cell_type": "code",
   "execution_count": 18,
   "metadata": {},
   "outputs": [
    {
     "data": {
      "image/png": "[encoded data removed]",
      "text/plain": [
       "<Figure size 1000x700 with 1 Axes>"
      ]
     },
     "metadata": {},
     "output_type": "display_data"
    }
   ],
   "source": [
    "# Creating boxplot of numerical colomns \n",
    "\n",
    "df_box_plt=df_mysql_new[['Age','Flight Distance','Departure Delay in Minutes','Arrival Delay in Minutes']]\n",
    "plt.figure(figsize=(10, 7))\n",
    "ax=sns.boxplot(data=df_box_plt, orient=\"h\", palette=\"Set1\")  # You can customize the palette as needed\n",
    "ax.set(xlabel='The metric features', ylabel='Observations')\n",
    "title_color = 'blue'\n",
    "plt.title('Boxplot of metric features', color= title_color)\n",
    "plt.show()"
   ]
  },
  {
   "cell_type": "code",
   "execution_count": 19,
   "metadata": {},
   "outputs": [],
   "source": [
    "# Creating a function to detect the outliers in the numerical columns\n",
    "def detect_outliers(data_column):\n",
    "     q1 = np.quantile(data_column, 0.25)\n",
    "     q3 = np.quantile(data_column, 0.75)\n",
    "     med = np.median(data_column)\n",
    "     iqr = q3-q1\n",
    "     upper_bound = q3+(1.5*iqr)\n",
    "     lower_bound = q1-(1.5*iqr)\n",
    "     outliers = (data_column < lower_bound) | (data_column > upper_bound)\n",
    "\n",
    "\n",
    "     results = {\n",
    "        'Q1': q1,\n",
    "        'Q3': q3,\n",
    "        'IQR': iqr,\n",
    "        'Lower_Whiskers': lower_bound,\n",
    "        'Upper_Whiskers': upper_bound,\n",
    "        'Outliers': outliers\n",
    "    }\n",
    "\n",
    "     return results\n"
   ]
  },
  {
   "cell_type": "code",
   "execution_count": 20,
   "metadata": {},
   "outputs": [
    {
     "name": "stdout",
     "output_type": "stream",
     "text": [
      "{'Q1': 414.0, 'Q3': 1743.0, 'IQR': 1329.0, 'Lower_Whiskers': -1579.5, 'Upper_Whiskers': 3736.5, 'Outliers': 0         False\n",
      "1         False\n",
      "2         False\n",
      "3         False\n",
      "4         False\n",
      "          ...  \n",
      "103589    False\n",
      "103590    False\n",
      "103591    False\n",
      "103592    False\n",
      "103593    False\n",
      "Name: Flight Distance, Length: 103594, dtype: bool}\n"
     ]
    }
   ],
   "source": [
    "# Detecting the outliers in the flight distance column\n",
    "flight_distance_column = df_box_plt['Flight Distance']\n",
    "outlier_detection_results = detect_outliers(flight_distance_column)\n",
    "print(outlier_detection_results)\n",
    "\n"
   ]
  },
  {
   "cell_type": "code",
   "execution_count": 21,
   "metadata": {},
   "outputs": [
    {
     "name": "stdout",
     "output_type": "stream",
     "text": [
      "{'Q1': 0.0, 'Q3': 12.0, 'IQR': 12.0, 'Lower_Whiskers': -18.0, 'Upper_Whiskers': 30.0, 'Outliers': 0         False\n",
      "1         False\n",
      "2         False\n",
      "3         False\n",
      "4         False\n",
      "          ...  \n",
      "103589    False\n",
      "103590    False\n",
      "103591    False\n",
      "103592    False\n",
      "103593    False\n",
      "Name: Departure Delay in Minutes, Length: 103594, dtype: bool}\n"
     ]
    }
   ],
   "source": [
    " # Detecting outliers of departure delay colomn\n",
    "deparure_delay_column = df_box_plt['Departure Delay in Minutes']\n",
    "outlier_detection_results_departure = detect_outliers(deparure_delay_column)\n",
    "print(outlier_detection_results_departure)"
   ]
  },
  {
   "cell_type": "code",
   "execution_count": 22,
   "metadata": {},
   "outputs": [
    {
     "name": "stdout",
     "output_type": "stream",
     "text": [
      "{'Q1': 0.0, 'Q3': 13.0, 'IQR': 13.0, 'Lower_Whiskers': -19.5, 'Upper_Whiskers': 32.5, 'Outliers': 0         False\n",
      "1         False\n",
      "2         False\n",
      "3         False\n",
      "4         False\n",
      "          ...  \n",
      "103589    False\n",
      "103590    False\n",
      "103591    False\n",
      "103592    False\n",
      "103593    False\n",
      "Name: Arrival Delay in Minutes, Length: 103594, dtype: bool}\n"
     ]
    }
   ],
   "source": [
    "# Detecting outliers of arrival delay colomn\n",
    "arrival_delay_column = df_box_plt['Arrival Delay in Minutes']\n",
    "outlier_detection_results_arrival = detect_outliers(arrival_delay_column)\n",
    "print(outlier_detection_results_arrival)"
   ]
  },
  {
   "cell_type": "markdown",
   "metadata": {},
   "source": [
    "# Exploring the relationship between the target variable and string features\n",
    "### Contingency Table showing correlation between the categorical variables in the df_mysql_new and the target variables\n",
    "### Chi2 test (hypothesis testing)"
   ]
  },
  {
   "cell_type": "code",
   "execution_count": 23,
   "metadata": {},
   "outputs": [],
   "source": [
    "# Extract string features into a separated dataset\n",
    "df_mysql_catg=df_mysql_new[['Gender','Customer Type', 'Type of Travel'\t,'Class','satisfaction']].copy()"
   ]
  },
  {
   "cell_type": "code",
   "execution_count": 24,
   "metadata": {},
   "outputs": [
    {
     "data": {
      "text/plain": [
       "<Axes: xlabel='satisfaction', ylabel='count'>"
      ]
     },
     "execution_count": 24,
     "metadata": {},
     "output_type": "execute_result"
    },
    {
     "data": {
      "image/png": "[encoded data removed]",
      "text/plain": [
       "<Figure size 640x480 with 1 Axes>"
      ]
     },
     "metadata": {},
     "output_type": "display_data"
    }
   ],
   "source": [
    "#The distribution of the dependent variable (satisfaction) plotting countplot\n",
    "#To check whether y is balanaced or not  \n",
    "\n",
    "sns.countplot(x=df_mysql_new['satisfaction'])\n",
    "#Balanced Distribution"
   ]
  },
  {
   "cell_type": "code",
   "execution_count": 25,
   "metadata": {},
   "outputs": [
    {
     "name": "stdout",
     "output_type": "stream",
     "text": [
      "Gender                   Female   Male\n",
      "satisfaction                          \n",
      "neutral or dissatisfied   30107  28590\n",
      "satisfied                 22469  22428\n",
      "p value is 7.168224693815838e-05\n",
      "significant relationship (reject H0)\n"
     ]
    }
   ],
   "source": [
    "# Contingency Table showing correlation between the gender and satisfaction\n",
    "\n",
    "crosstab_gender=pd.crosstab(index=df_mysql_catg['satisfaction'], columns=df_mysql_catg['Gender'])\n",
    "print(crosstab_gender)\n",
    "\n",
    "\n",
    "# performig the significance testing using chi2_contingency()\n",
    "# H0: there is NO relation between gender & satisfaction\n",
    "stat, p, dof, expected = chi2_contingency(crosstab_gender)\n",
    "# interpret p-value\n",
    "alpha = 0.05\n",
    "print(\"p value is \" + str(p) )\n",
    "if p <= alpha:\n",
    "    print('significant relationship (reject H0)')\n",
    "else:\n",
    "    print('Independent (H0 holds true)')\n",
    "  \n"
   ]
  },
  {
   "cell_type": "code",
   "execution_count": 26,
   "metadata": {},
   "outputs": [
    {
     "data": {
      "text/plain": [
       "<Axes: ylabel='satisfaction'>"
      ]
     },
     "execution_count": 26,
     "metadata": {},
     "output_type": "execute_result"
    },
    {
     "data": {
      "image/png": "[encoded data removed]",
      "text/plain": [
       "<Figure size 640x480 with 1 Axes>"
      ]
     },
     "metadata": {},
     "output_type": "display_data"
    }
   ],
   "source": [
    " #Understanding the distribution of the satisfaction among gender\n",
    "\n",
    "crosstab_gender.plot(kind=\"barh\",stacked=None)"
   ]
  },
  {
   "cell_type": "code",
   "execution_count": 27,
   "metadata": {},
   "outputs": [
    {
     "name": "stdout",
     "output_type": "stream",
     "text": [
      "Customer Type            Loyal Customer  disloyal Customer\n",
      "satisfaction                                              \n",
      "neutral or dissatisfied           44249              14448\n",
      "satisfied                         40413               4484\n",
      "p value is 0.0 chi= 3643.2666554467874\n",
      "significant relationship (reject H0)\n"
     ]
    }
   ],
   "source": [
    "# Contingency Table showing correlation between  customer type and satisfaction\n",
    "crosstab_cust_typ=pd.crosstab(index=df_mysql_catg['satisfaction'], columns=df_mysql_catg['Customer Type'])\n",
    "print(crosstab_cust_typ)\n",
    "\n",
    "\n",
    " #performig the significance testing using chi2_contingency()\n",
    "# H0: there is NO a relation between customer type & satisfaction\n",
    "stat_cust, p_cust, dof_cust, expected_cust = chi2_contingency(crosstab_cust_typ)\n",
    "# interpret p-value\n",
    "alpha = 0.05\n",
    "print(\"p value is \" + str(p_cust), 'chi=',stat_cust)\n",
    "if p_cust <= alpha:\n",
    "    print('significant relationship (reject H0)')\n",
    "else:\n",
    "    print('Independent (H0 holds true)')\n",
    "  "
   ]
  },
  {
   "cell_type": "code",
   "execution_count": 28,
   "metadata": {},
   "outputs": [
    {
     "data": {
      "text/plain": [
       "<Axes: ylabel='satisfaction'>"
      ]
     },
     "execution_count": 28,
     "metadata": {},
     "output_type": "execute_result"
    },
    {
     "data": {
      "image/png": "[encoded data removed]",
      "text/plain": [
       "<Figure size 640x480 with 1 Axes>"
      ]
     },
     "metadata": {},
     "output_type": "display_data"
    }
   ],
   "source": [
    "#Understanding the distribution of the satisfaction among customer's type\n",
    "\n",
    "crosstab_cust_typ.plot(kind=\"barh\",stacked=None)\n"
   ]
  },
  {
   "cell_type": "code",
   "execution_count": 29,
   "metadata": {},
   "outputs": [
    {
     "name": "stdout",
     "output_type": "stream",
     "text": [
      "Class                    Business    Eco  Eco Plus\n",
      "satisfaction                                      \n",
      "neutral or dissatisfied     15143  37922      5632\n",
      "satisfied                   34390   8671      1836\n",
      "p value is 0.0\n",
      "significant relationship (reject H0)\n"
     ]
    }
   ],
   "source": [
    "# Contingency Table showing correlation between  class and satisfaction\n",
    "crosstab_class=pd.crosstab(index=df_mysql_catg['satisfaction'], columns=df_mysql_catg['Class'])\n",
    "print(crosstab_class)\n",
    "\n",
    "#performig the significance testing using chi2_contingency()\n",
    "#Chi-square test of independence of variables in a contingency table\n",
    "# H0: there is NO  relation between class & satisfaction\n",
    "stat_class, p_class, dof_class, expected_class = chi2_contingency(crosstab_class) #stat_class:test statistic,  p_class:p-value of the test\n",
    "# interpret p-value\n",
    "alpha = 0.05\n",
    "print(\"p value is \" + str(p_class))\n",
    "if p_class <= alpha:\n",
    "    print('significant relationship (reject H0)')\n",
    "else:\n",
    "    print('Independent (H0 holds true)')"
   ]
  },
  {
   "cell_type": "code",
   "execution_count": 30,
   "metadata": {},
   "outputs": [
    {
     "data": {
      "text/plain": [
       "<Axes: ylabel='satisfaction'>"
      ]
     },
     "execution_count": 30,
     "metadata": {},
     "output_type": "execute_result"
    },
    {
     "data": {
      "image/png": "[encoded data removed]",
      "text/plain": [
       "<Figure size 640x480 with 1 Axes>"
      ]
     },
     "metadata": {},
     "output_type": "display_data"
    }
   ],
   "source": [
    "#Understanding the distribution of the satisfaction among classes\n",
    "crosstab_class.plot(kind=\"barh\",stacked=None)\n"
   ]
  },
  {
   "cell_type": "markdown",
   "metadata": {},
   "source": [
    "#Exploring the correlation of the 'numerical' features with the satisfaction conducting a correlation matrix\n"
   ]
  },
  {
   "cell_type": "code",
   "execution_count": 31,
   "metadata": {},
   "outputs": [],
   "source": [
    "#create dummies for satisfaction feature ( to call it into the corr_matrix)\n",
    "df_sat_dumm = pd.get_dummies(df_mysql_new, columns=['satisfaction'],drop_first=False)"
   ]
  },
  {
   "cell_type": "code",
   "execution_count": 32,
   "metadata": {},
   "outputs": [
    {
     "data": {
      "text/html": [
       "<div>\n",
       "<style scoped>\n",
       "    .dataframe tbody tr th:only-of-type {\n",
       "        vertical-align: middle;\n",
       "    }\n",
       "\n",
       "    .dataframe tbody tr th {\n",
       "        vertical-align: top;\n",
       "    }\n",
       "\n",
       "    .dataframe thead th {\n",
       "        text-align: right;\n",
       "    }\n",
       "</style>\n",
       "<table border=\"1\" class=\"dataframe\">\n",
       "  <thead>\n",
       "    <tr style=\"text-align: right;\">\n",
       "      <th></th>\n",
       "      <th>Gender</th>\n",
       "      <th>Customer Type</th>\n",
       "      <th>Age</th>\n",
       "      <th>Type of Travel</th>\n",
       "      <th>Class</th>\n",
       "      <th>Flight Distance</th>\n",
       "      <th>Inflight wifi service</th>\n",
       "      <th>Departure/Arrival time convenient</th>\n",
       "      <th>Ease of Online booking</th>\n",
       "      <th>Gate location</th>\n",
       "      <th>...</th>\n",
       "      <th>On-board service</th>\n",
       "      <th>Leg room service</th>\n",
       "      <th>Baggage handling</th>\n",
       "      <th>Checkin service</th>\n",
       "      <th>Inflight service</th>\n",
       "      <th>Cleanliness</th>\n",
       "      <th>Departure Delay in Minutes</th>\n",
       "      <th>Arrival Delay in Minutes</th>\n",
       "      <th>satisfaction_neutral or dissatisfied</th>\n",
       "      <th>satisfaction_satisfied</th>\n",
       "    </tr>\n",
       "  </thead>\n",
       "  <tbody>\n",
       "    <tr>\n",
       "      <th>0</th>\n",
       "      <td>Male</td>\n",
       "      <td>Loyal Customer</td>\n",
       "      <td>13</td>\n",
       "      <td>Personal Travel</td>\n",
       "      <td>Eco Plus</td>\n",
       "      <td>460</td>\n",
       "      <td>3</td>\n",
       "      <td>4</td>\n",
       "      <td>3</td>\n",
       "      <td>1</td>\n",
       "      <td>...</td>\n",
       "      <td>4</td>\n",
       "      <td>3</td>\n",
       "      <td>4</td>\n",
       "      <td>4</td>\n",
       "      <td>5</td>\n",
       "      <td>5</td>\n",
       "      <td>25</td>\n",
       "      <td>18.0</td>\n",
       "      <td>1</td>\n",
       "      <td>0</td>\n",
       "    </tr>\n",
       "    <tr>\n",
       "      <th>1</th>\n",
       "      <td>Male</td>\n",
       "      <td>disloyal Customer</td>\n",
       "      <td>25</td>\n",
       "      <td>Business travel</td>\n",
       "      <td>Business</td>\n",
       "      <td>235</td>\n",
       "      <td>3</td>\n",
       "      <td>2</td>\n",
       "      <td>3</td>\n",
       "      <td>3</td>\n",
       "      <td>...</td>\n",
       "      <td>1</td>\n",
       "      <td>5</td>\n",
       "      <td>3</td>\n",
       "      <td>1</td>\n",
       "      <td>4</td>\n",
       "      <td>1</td>\n",
       "      <td>1</td>\n",
       "      <td>6.0</td>\n",
       "      <td>1</td>\n",
       "      <td>0</td>\n",
       "    </tr>\n",
       "    <tr>\n",
       "      <th>2</th>\n",
       "      <td>Female</td>\n",
       "      <td>Loyal Customer</td>\n",
       "      <td>26</td>\n",
       "      <td>Business travel</td>\n",
       "      <td>Business</td>\n",
       "      <td>1142</td>\n",
       "      <td>2</td>\n",
       "      <td>2</td>\n",
       "      <td>2</td>\n",
       "      <td>2</td>\n",
       "      <td>...</td>\n",
       "      <td>4</td>\n",
       "      <td>3</td>\n",
       "      <td>4</td>\n",
       "      <td>4</td>\n",
       "      <td>4</td>\n",
       "      <td>5</td>\n",
       "      <td>0</td>\n",
       "      <td>0.0</td>\n",
       "      <td>0</td>\n",
       "      <td>1</td>\n",
       "    </tr>\n",
       "    <tr>\n",
       "      <th>3</th>\n",
       "      <td>Female</td>\n",
       "      <td>Loyal Customer</td>\n",
       "      <td>25</td>\n",
       "      <td>Business travel</td>\n",
       "      <td>Business</td>\n",
       "      <td>562</td>\n",
       "      <td>2</td>\n",
       "      <td>5</td>\n",
       "      <td>5</td>\n",
       "      <td>5</td>\n",
       "      <td>...</td>\n",
       "      <td>2</td>\n",
       "      <td>5</td>\n",
       "      <td>3</td>\n",
       "      <td>1</td>\n",
       "      <td>4</td>\n",
       "      <td>2</td>\n",
       "      <td>11</td>\n",
       "      <td>9.0</td>\n",
       "      <td>1</td>\n",
       "      <td>0</td>\n",
       "    </tr>\n",
       "    <tr>\n",
       "      <th>4</th>\n",
       "      <td>Male</td>\n",
       "      <td>Loyal Customer</td>\n",
       "      <td>61</td>\n",
       "      <td>Business travel</td>\n",
       "      <td>Business</td>\n",
       "      <td>214</td>\n",
       "      <td>3</td>\n",
       "      <td>3</td>\n",
       "      <td>3</td>\n",
       "      <td>3</td>\n",
       "      <td>...</td>\n",
       "      <td>3</td>\n",
       "      <td>4</td>\n",
       "      <td>4</td>\n",
       "      <td>3</td>\n",
       "      <td>3</td>\n",
       "      <td>3</td>\n",
       "      <td>0</td>\n",
       "      <td>0.0</td>\n",
       "      <td>0</td>\n",
       "      <td>1</td>\n",
       "    </tr>\n",
       "  </tbody>\n",
       "</table>\n",
       "<p>5 rows × 24 columns</p>\n",
       "</div>"
      ],
      "text/plain": [
       "   Gender      Customer Type  Age   Type of Travel     Class  Flight Distance  \\\n",
       "0    Male     Loyal Customer   13  Personal Travel  Eco Plus              460   \n",
       "1    Male  disloyal Customer   25  Business travel  Business              235   \n",
       "2  Female     Loyal Customer   26  Business travel  Business             1142   \n",
       "3  Female     Loyal Customer   25  Business travel  Business              562   \n",
       "4    Male     Loyal Customer   61  Business travel  Business              214   \n",
       "\n",
       "   Inflight wifi service  Departure/Arrival time convenient  \\\n",
       "0                      3                                  4   \n",
       "1                      3                                  2   \n",
       "2                      2                                  2   \n",
       "3                      2                                  5   \n",
       "4                      3                                  3   \n",
       "\n",
       "   Ease of Online booking  Gate location  ...  On-board service  \\\n",
       "0                       3              1  ...                 4   \n",
       "1                       3              3  ...                 1   \n",
       "2                       2              2  ...                 4   \n",
       "3                       5              5  ...                 2   \n",
       "4                       3              3  ...                 3   \n",
       "\n",
       "   Leg room service  Baggage handling  Checkin service  Inflight service  \\\n",
       "0                 3                 4                4                 5   \n",
       "1                 5                 3                1                 4   \n",
       "2                 3                 4                4                 4   \n",
       "3                 5                 3                1                 4   \n",
       "4                 4                 4                3                 3   \n",
       "\n",
       "   Cleanliness  Departure Delay in Minutes  Arrival Delay in Minutes  \\\n",
       "0            5                          25                      18.0   \n",
       "1            1                           1                       6.0   \n",
       "2            5                           0                       0.0   \n",
       "3            2                          11                       9.0   \n",
       "4            3                           0                       0.0   \n",
       "\n",
       "   satisfaction_neutral or dissatisfied  satisfaction_satisfied  \n",
       "0                                     1                       0  \n",
       "1                                     1                       0  \n",
       "2                                     0                       1  \n",
       "3                                     1                       0  \n",
       "4                                     0                       1  \n",
       "\n",
       "[5 rows x 24 columns]"
      ]
     },
     "execution_count": 32,
     "metadata": {},
     "output_type": "execute_result"
    }
   ],
   "source": [
    "df_sat_dumm.head()"
   ]
  },
  {
   "cell_type": "code",
   "execution_count": 33,
   "metadata": {},
   "outputs": [
    {
     "name": "stderr",
     "output_type": "stream",
     "text": [
      "C:\\Users\\sondo\\AppData\\Local\\Temp\\ipykernel_125196\\3626605450.py:2: FutureWarning: The default value of numeric_only in DataFrame.corr is deprecated. In a future version, it will default to False. Select only valid columns or specify the value of numeric_only to silence this warning.\n",
      "  corr_matrix=df_sat_dumm.corr()\n"
     ]
    }
   ],
   "source": [
    "#Corrolation matrix for the categorical 'numeric' feature\n",
    "corr_matrix=df_sat_dumm.corr()"
   ]
  },
  {
   "cell_type": "code",
   "execution_count": 34,
   "metadata": {},
   "outputs": [
    {
     "data": {
      "image/png": "[encoded data removed]",
      "text/plain": [
       "<Figure size 640x480 with 2 Axes>"
      ]
     },
     "metadata": {},
     "output_type": "display_data"
    }
   ],
   "source": [
    "#Heatmap of numerical features vs. satisfaction\n",
    "#center=colorless\n",
    "hm=sns.heatmap(corr_matrix, vmin=-0.2, vmax=1, cmap='RdBu', annot=None, center=True, annot_kws=None, linewidths=0, linecolor = 'pink', square=True, cbar=True)\n",
    "\n",
    "hm.set_title('Correlation Heatmap', fontdict={'fontsize':12}, pad=12);"
   ]
  },
  {
   "cell_type": "code",
   "execution_count": 35,
   "metadata": {},
   "outputs": [
    {
     "name": "stderr",
     "output_type": "stream",
     "text": [
      "C:\\Users\\sondo\\AppData\\Local\\Temp\\ipykernel_125196\\2937387941.py:4: FutureWarning: The default value of numeric_only in DataFrame.corr is deprecated. In a future version, it will default to False. Select only valid columns or specify the value of numeric_only to silence this warning.\n",
      "  df_sat_dumm.corr()[['satisfaction_satisfied']].sort_values(by='satisfaction_satisfied', ascending=False)\n"
     ]
    },
    {
     "data": {
      "text/html": [
       "<div>\n",
       "<style scoped>\n",
       "    .dataframe tbody tr th:only-of-type {\n",
       "        vertical-align: middle;\n",
       "    }\n",
       "\n",
       "    .dataframe tbody tr th {\n",
       "        vertical-align: top;\n",
       "    }\n",
       "\n",
       "    .dataframe thead th {\n",
       "        text-align: right;\n",
       "    }\n",
       "</style>\n",
       "<table border=\"1\" class=\"dataframe\">\n",
       "  <thead>\n",
       "    <tr style=\"text-align: right;\">\n",
       "      <th></th>\n",
       "      <th>satisfaction_satisfied</th>\n",
       "    </tr>\n",
       "  </thead>\n",
       "  <tbody>\n",
       "    <tr>\n",
       "      <th>satisfaction_satisfied</th>\n",
       "      <td>1.000000</td>\n",
       "    </tr>\n",
       "    <tr>\n",
       "      <th>Online boarding</th>\n",
       "      <td>0.503447</td>\n",
       "    </tr>\n",
       "    <tr>\n",
       "      <th>Inflight entertainment</th>\n",
       "      <td>0.398203</td>\n",
       "    </tr>\n",
       "    <tr>\n",
       "      <th>Seat comfort</th>\n",
       "      <td>0.349112</td>\n",
       "    </tr>\n",
       "    <tr>\n",
       "      <th>On-board service</th>\n",
       "      <td>0.322450</td>\n",
       "    </tr>\n",
       "    <tr>\n",
       "      <th>Leg room service</th>\n",
       "      <td>0.313182</td>\n",
       "    </tr>\n",
       "    <tr>\n",
       "      <th>Cleanliness</th>\n",
       "      <td>0.305050</td>\n",
       "    </tr>\n",
       "    <tr>\n",
       "      <th>Flight Distance</th>\n",
       "      <td>0.298915</td>\n",
       "    </tr>\n",
       "    <tr>\n",
       "      <th>Inflight wifi service</th>\n",
       "      <td>0.284163</td>\n",
       "    </tr>\n",
       "    <tr>\n",
       "      <th>Baggage handling</th>\n",
       "      <td>0.247819</td>\n",
       "    </tr>\n",
       "    <tr>\n",
       "      <th>Inflight service</th>\n",
       "      <td>0.244852</td>\n",
       "    </tr>\n",
       "    <tr>\n",
       "      <th>Checkin service</th>\n",
       "      <td>0.235914</td>\n",
       "    </tr>\n",
       "    <tr>\n",
       "      <th>Food and drink</th>\n",
       "      <td>0.209659</td>\n",
       "    </tr>\n",
       "    <tr>\n",
       "      <th>Ease of Online booking</th>\n",
       "      <td>0.171507</td>\n",
       "    </tr>\n",
       "    <tr>\n",
       "      <th>Age</th>\n",
       "      <td>0.137040</td>\n",
       "    </tr>\n",
       "    <tr>\n",
       "      <th>Gate location</th>\n",
       "      <td>0.000449</td>\n",
       "    </tr>\n",
       "    <tr>\n",
       "      <th>Departure Delay in Minutes</th>\n",
       "      <td>-0.050515</td>\n",
       "    </tr>\n",
       "    <tr>\n",
       "      <th>Departure/Arrival time convenient</th>\n",
       "      <td>-0.051718</td>\n",
       "    </tr>\n",
       "    <tr>\n",
       "      <th>Arrival Delay in Minutes</th>\n",
       "      <td>-0.057582</td>\n",
       "    </tr>\n",
       "    <tr>\n",
       "      <th>satisfaction_neutral or dissatisfied</th>\n",
       "      <td>-1.000000</td>\n",
       "    </tr>\n",
       "  </tbody>\n",
       "</table>\n",
       "</div>"
      ],
      "text/plain": [
       "                                      satisfaction_satisfied\n",
       "satisfaction_satisfied                              1.000000\n",
       "Online boarding                                     0.503447\n",
       "Inflight entertainment                              0.398203\n",
       "Seat comfort                                        0.349112\n",
       "On-board service                                    0.322450\n",
       "Leg room service                                    0.313182\n",
       "Cleanliness                                         0.305050\n",
       "Flight Distance                                     0.298915\n",
       "Inflight wifi service                               0.284163\n",
       "Baggage handling                                    0.247819\n",
       "Inflight service                                    0.244852\n",
       "Checkin service                                     0.235914\n",
       "Food and drink                                      0.209659\n",
       "Ease of Online booking                              0.171507\n",
       "Age                                                 0.137040\n",
       "Gate location                                       0.000449\n",
       "Departure Delay in Minutes                         -0.050515\n",
       "Departure/Arrival time convenient                  -0.051718\n",
       "Arrival Delay in Minutes                           -0.057582\n",
       "satisfaction_neutral or dissatisfied               -1.000000"
      ]
     },
     "execution_count": 35,
     "metadata": {},
     "output_type": "execute_result"
    }
   ],
   "source": [
    "#Correlation of the dependent Variable (satisfaction) with the other numerical features in the cleaned dataset\n",
    "#returns the correlation of all features with ‘satisfaction’, a single, dependent variable\n",
    "#df_sat_dumm.info()\n",
    "df_sat_dumm.corr()[['satisfaction_satisfied']].sort_values(by='satisfaction_satisfied', ascending=False)"
   ]
  },
  {
   "cell_type": "markdown",
   "metadata": {},
   "source": [
    "# Forcasting the customer's satisfaction using the most relevant features in the data set applying the skit-learn algorithm\n",
    "\n",
    "* The numerical categorical features:\n",
    " % Online boarding\t\n",
    " % Inflight entertainment\t"
   ]
  },
  {
   "cell_type": "code",
   "execution_count": 39,
   "metadata": {},
   "outputs": [],
   "source": [
    " # Training the linear SVC model\n",
    " # predicting the satisfaction by using the numerical features for training the model (Online boarding, Inflight entertainment)\n",
    "\n",
    "from sklearn import svm\n",
    " \n",
    "x=df_mysql_new[['Online boarding','Inflight entertainment']]\n",
    "y=df_sat_dumm['satisfaction_satisfied']\n",
    "\n",
    "def mylincsv(feature,label):\n",
    " \n",
    "  x=feature\n",
    "  y=label\n",
    "  #define classifier\n",
    "  clf = svm.SVC(kernel='linear', C = 1.0)\n",
    "  clf.fit(x,y)\n",
    "  result_1 = clf.score(x, y)\n",
    "  print(\" Train Accuracy:\" , (result_1*100.0))\n"
   ]
  },
  {
   "cell_type": "code",
   "execution_count": 40,
   "metadata": {},
   "outputs": [
    {
     "name": "stdout",
     "output_type": "stream",
     "text": [
      " Train Accuracy: 79.89265787593877\n"
     ]
    }
   ],
   "source": [
    "#Calling the function by the user   \n",
    "mylincsv(df_mysql_new[['Online boarding','Inflight entertainment']],df_sat_dumm['satisfaction_satisfied'])  "
   ]
  },
  {
   "cell_type": "code",
   "execution_count": 42,
   "metadata": {},
   "outputs": [
    {
     "name": "stdout",
     "output_type": "stream",
     "text": [
      "        Class_Eco  Class_Eco Plus  Gender_Male  \\\n",
      "0               0               1            1   \n",
      "1               0               0            1   \n",
      "2               0               0            0   \n",
      "3               0               0            0   \n",
      "4               0               0            1   \n",
      "...           ...             ...          ...   \n",
      "103589          1               0            0   \n",
      "103590          0               0            1   \n",
      "103591          0               0            1   \n",
      "103592          1               0            0   \n",
      "103593          0               0            1   \n",
      "\n",
      "        Customer Type_disloyal Customer  Type of Travel_Personal Travel  \n",
      "0                                     0                               1  \n",
      "1                                     1                               0  \n",
      "2                                     0                               0  \n",
      "3                                     0                               0  \n",
      "4                                     0                               0  \n",
      "...                                 ...                             ...  \n",
      "103589                                1                               0  \n",
      "103590                                0                               0  \n",
      "103591                                1                               0  \n",
      "103592                                1                               0  \n",
      "103593                                0                               0  \n",
      "\n",
      "[103594 rows x 5 columns]\n"
     ]
    }
   ],
   "source": [
    "#Predicting the satisfaction based on the string features (age, class, type of travel, type of customer)\n",
    "#Defining a function to convert string features into dummies\n",
    "# #Applying Linear SVC classifier\n",
    "\n",
    "\n",
    "def mydummies(my_data,x_feature):\n",
    "  \n",
    "  feat_dumm = pd.get_dummies(my_data[x_feature],drop_first=True)\n",
    " \n",
    "  return(feat_dumm)\n",
    " \n",
    "#call the function\n",
    "cat_feat=mydummies(df_mysql_catg,['Class','Gender','Customer Type','Type of Travel'])\n",
    "print(cat_feat)"
   ]
  },
  {
   "cell_type": "code",
   "execution_count": 43,
   "metadata": {},
   "outputs": [
    {
     "name": "stdout",
     "output_type": "stream",
     "text": [
      " Train Accuracy: 77.56337239608472\n"
     ]
    }
   ],
   "source": [
    "#Applying Linear SVC classifier\n",
    "#Predicting the satisfaction based on the string features (age, class, type of travel, type of customer)\n",
    "\n",
    "\n",
    "mylincsv(cat_feat,df_sat_dumm['satisfaction_satisfied']) "
   ]
  },
  {
   "cell_type": "code",
   "execution_count": 44,
   "metadata": {},
   "outputs": [],
   "source": [
    " #Extracting the x-faeatures in a separated dataframe\n",
    "# Numerical features: onlineboarding, inflight entertainment\n",
    "#String features: age, class, type of travel, type of customer\n",
    "\n",
    "\n",
    "x_feat_train=pd.concat([cat_feat,df_mysql_new[['Online boarding','Inflight entertainment']]],axis=1)\n",
    "\n",
    "\n"
   ]
  },
  {
   "cell_type": "code",
   "execution_count": 45,
   "metadata": {},
   "outputs": [
    {
     "name": "stdout",
     "output_type": "stream",
     "text": [
      " Train Accuracy: 85.06187617043459\n"
     ]
    }
   ],
   "source": [
    "#Applying linear SVC to prdict the satisfaction based on 7 input features \n",
    "# most relevant features\n",
    "\n",
    "mylincsv(x_feat_train,df_sat_dumm['satisfaction_satisfied']) "
   ]
  }
 ],
 "metadata": {
  "kernelspec": {
   "display_name": "base",
   "language": "python",
   "name": "python3"
  },
  "language_info": {
   "codemirror_mode": {
    "name": "ipython",
    "version": 3
   },
   "file_extension": ".py",
   "mimetype": "text/x-python",
   "name": "python",
   "nbconvert_exporter": "python",
   "pygments_lexer": "ipython3",
   "version": "3.11.4"
  }
 },
 "nbformat": 4,
 "nbformat_minor": 2
}
